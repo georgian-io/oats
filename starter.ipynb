{
 "cells": [
  {
   "cell_type": "code",
   "execution_count": 1,
   "id": "6c8b984f-5c29-4c00-bd40-c501a522259d",
   "metadata": {
    "collapsed": true,
    "jupyter": {
     "outputs_hidden": true
    },
    "tags": []
   },
   "outputs": [
    {
     "name": "stderr",
     "output_type": "stream",
     "text": [
      "2022-09-26 18:12:41.623811: I tensorflow/stream_executor/cuda/cuda_gpu_executor.cc:975] successful NUMA node read from SysFS had negative value (-1), but there must be at least one NUMA node, so returning NUMA node zero\n",
      "2022-09-26 18:12:41.632105: I tensorflow/stream_executor/cuda/cuda_gpu_executor.cc:975] successful NUMA node read from SysFS had negative value (-1), but there must be at least one NUMA node, so returning NUMA node zero\n",
      "2022-09-26 18:12:41.632339: I tensorflow/stream_executor/cuda/cuda_gpu_executor.cc:975] successful NUMA node read from SysFS had negative value (-1), but there must be at least one NUMA node, so returning NUMA node zero\n"
     ]
    }
   ],
   "source": [
    "import matplotlib.pyplot as plt\n",
    "import numpy as np\n",
    "\n",
    "from one.models import NHiTSModel\n",
    "from one.threshold import QuantileThreshold\n",
    "from one.generator import UnivariateWaveGenerator"
   ]
  },
  {
   "cell_type": "code",
   "execution_count": 14,
   "id": "82b0598b-6f0d-480b-94e0-11e939fc99d9",
   "metadata": {},
   "outputs": [],
   "source": [
    "plt.rcParams[\"figure.figsize\"] = (10,4)"
   ]
  },
  {
   "cell_type": "code",
   "execution_count": 10,
   "id": "65d576be-20d1-437f-9fc0-13b1f9cf5bf0",
   "metadata": {},
   "outputs": [],
   "source": [
    "# Generate Syntetic Anoms\n",
    "generator = UnivariateWaveGenerator(1000, train_ratio=0.5)\n",
    "generator.point_contextual_outliers(0.01, 2.5, 50)"
   ]
  },
  {
   "cell_type": "code",
   "execution_count": 11,
   "id": "559fe9fb-4c04-4b4a-a753-57bceca55f51",
   "metadata": {
    "collapsed": true,
    "jupyter": {
     "outputs_hidden": true
    },
    "tags": []
   },
   "outputs": [
    {
     "name": "stderr",
     "output_type": "stream",
     "text": [
      "2022-09-26 18:13:34 darts.models.forecasting.nhits INFO: (N-HiTS): Using automatic kernel pooling size: ((5,), (2,), (1,)).\n",
      "2022-09-26 18:13:34 darts.models.forecasting.nhits INFO: (N-HiTS):  Using automatic downsampling coefficients: ((1,), (1,), (1,)).\n",
      "2022-09-26 18:13:34 darts.models.forecasting.torch_forecasting_model INFO: Train dataset contains 390 samples.\n",
      "2022-09-26 18:13:34 darts.models.forecasting.torch_forecasting_model INFO: Time series values are 32-bits; casting model to float32.\n",
      "/usr/local/lib/python3.8/dist-packages/pytorch_lightning/trainer/connectors/callback_connector.py:96: LightningDeprecationWarning: Setting `Trainer(progress_bar_refresh_rate=100)` is deprecated in v1.5 and will be removed in v1.7. Please pass `pytorch_lightning.callbacks.progress.TQDMProgressBar` with `refresh_rate` directly to the Trainer's `callbacks` argument instead. Or, to disable the progress bar pass `enable_progress_bar = False` to the Trainer.\n",
      "  rank_zero_deprecation(\n",
      "2022-09-26 18:13:34 pytorch_lightning.utilities.rank_zero INFO: GPU available: True, used: True\n",
      "2022-09-26 18:13:34 pytorch_lightning.utilities.rank_zero INFO: TPU available: False, using: 0 TPU cores\n",
      "2022-09-26 18:13:34 pytorch_lightning.utilities.rank_zero INFO: IPU available: False, using: 0 IPUs\n",
      "2022-09-26 18:13:34 pytorch_lightning.utilities.rank_zero INFO: HPU available: False, using: 0 HPUs\n",
      "2022-09-26 18:13:34 pytorch_lightning.accelerators.gpu INFO: LOCAL_RANK: 0 - CUDA_VISIBLE_DEVICES: [0]\n",
      "2022-09-26 18:13:34 pytorch_lightning.callbacks.model_summary INFO: \n",
      "  | Name          | Type             | Params\n",
      "---------------------------------------------------\n",
      "0 | criterion     | MSELoss          | 0     \n",
      "1 | train_metrics | MetricCollection | 0     \n",
      "2 | val_metrics   | MetricCollection | 0     \n",
      "3 | stacks        | ModuleList       | 815 K \n",
      "---------------------------------------------------\n",
      "810 K     Trainable params\n",
      "5.1 K     Non-trainable params\n",
      "815 K     Total params\n",
      "3.261     Total estimated model params size (MB)\n"
     ]
    },
    {
     "data": {
      "application/json": {
       "ascii": false,
       "bar_format": null,
       "colour": null,
       "elapsed": 0.021796464920043945,
       "initial": 0,
       "n": 0,
       "ncols": 24,
       "nrows": 51,
       "postfix": null,
       "prefix": "Sanity Checking",
       "rate": null,
       "total": null,
       "unit": "it",
       "unit_divisor": 1000,
       "unit_scale": false
      },
      "application/vnd.jupyter.widget-view+json": {
       "model_id": "33428a2e24054170977fa092f3f5f2f4",
       "version_major": 2,
       "version_minor": 0
      },
      "text/plain": [
       "Sanity Checking: 0it [00:00, ?it/s]"
      ]
     },
     "metadata": {},
     "output_type": "display_data"
    },
    {
     "data": {
      "application/json": {
       "ascii": false,
       "bar_format": null,
       "colour": null,
       "elapsed": 0.021834135055541992,
       "initial": 0,
       "n": 0,
       "ncols": 24,
       "nrows": 51,
       "postfix": null,
       "prefix": "Training",
       "rate": null,
       "total": null,
       "unit": "it",
       "unit_divisor": 1000,
       "unit_scale": false
      },
      "application/vnd.jupyter.widget-view+json": {
       "model_id": "d62eaf48602c4d11b31404e45fd73ff4",
       "version_major": 2,
       "version_minor": 0
      },
      "text/plain": [
       "Training: 0it [00:00, ?it/s]"
      ]
     },
     "metadata": {},
     "output_type": "display_data"
    },
    {
     "data": {
      "application/json": {
       "ascii": false,
       "bar_format": null,
       "colour": null,
       "elapsed": 0.022710561752319336,
       "initial": 0,
       "n": 0,
       "ncols": 24,
       "nrows": 51,
       "postfix": null,
       "prefix": "Validation",
       "rate": null,
       "total": null,
       "unit": "it",
       "unit_divisor": 1000,
       "unit_scale": false
      },
      "application/vnd.jupyter.widget-view+json": {
       "model_id": "f11f7482b90e43ce8131ce4d2a99f157",
       "version_major": 2,
       "version_minor": 0
      },
      "text/plain": [
       "Validation: 0it [00:00, ?it/s]"
      ]
     },
     "metadata": {},
     "output_type": "display_data"
    },
    {
     "data": {
      "application/json": {
       "ascii": false,
       "bar_format": null,
       "colour": null,
       "elapsed": 0.022756338119506836,
       "initial": 0,
       "n": 0,
       "ncols": 24,
       "nrows": 51,
       "postfix": null,
       "prefix": "Validation",
       "rate": null,
       "total": null,
       "unit": "it",
       "unit_divisor": 1000,
       "unit_scale": false
      },
      "application/vnd.jupyter.widget-view+json": {
       "model_id": "347663248ea8469d94c5974ae23c4624",
       "version_major": 2,
       "version_minor": 0
      },
      "text/plain": [
       "Validation: 0it [00:00, ?it/s]"
      ]
     },
     "metadata": {},
     "output_type": "display_data"
    },
    {
     "data": {
      "application/json": {
       "ascii": false,
       "bar_format": null,
       "colour": null,
       "elapsed": 0.02282547950744629,
       "initial": 0,
       "n": 0,
       "ncols": 24,
       "nrows": 51,
       "postfix": null,
       "prefix": "Validation",
       "rate": null,
       "total": null,
       "unit": "it",
       "unit_divisor": 1000,
       "unit_scale": false
      },
      "application/vnd.jupyter.widget-view+json": {
       "model_id": "c515c1812fb8436e8a1900422256b953",
       "version_major": 2,
       "version_minor": 0
      },
      "text/plain": [
       "Validation: 0it [00:00, ?it/s]"
      ]
     },
     "metadata": {},
     "output_type": "display_data"
    },
    {
     "data": {
      "application/json": {
       "ascii": false,
       "bar_format": null,
       "colour": null,
       "elapsed": 0.02262568473815918,
       "initial": 0,
       "n": 0,
       "ncols": 24,
       "nrows": 51,
       "postfix": null,
       "prefix": "Validation",
       "rate": null,
       "total": null,
       "unit": "it",
       "unit_divisor": 1000,
       "unit_scale": false
      },
      "application/vnd.jupyter.widget-view+json": {
       "model_id": "c4f3eed91de546f6ae5f38b2ffbdbe28",
       "version_major": 2,
       "version_minor": 0
      },
      "text/plain": [
       "Validation: 0it [00:00, ?it/s]"
      ]
     },
     "metadata": {},
     "output_type": "display_data"
    },
    {
     "data": {
      "application/json": {
       "ascii": false,
       "bar_format": null,
       "colour": null,
       "elapsed": 0.022887229919433594,
       "initial": 0,
       "n": 0,
       "ncols": 24,
       "nrows": 51,
       "postfix": null,
       "prefix": "Validation",
       "rate": null,
       "total": null,
       "unit": "it",
       "unit_divisor": 1000,
       "unit_scale": false
      },
      "application/vnd.jupyter.widget-view+json": {
       "model_id": "22a59a09ae054979abb094e40faa9c8b",
       "version_major": 2,
       "version_minor": 0
      },
      "text/plain": [
       "Validation: 0it [00:00, ?it/s]"
      ]
     },
     "metadata": {},
     "output_type": "display_data"
    },
    {
     "data": {
      "application/json": {
       "ascii": false,
       "bar_format": null,
       "colour": null,
       "elapsed": 0.023177146911621094,
       "initial": 0,
       "n": 0,
       "ncols": 24,
       "nrows": 51,
       "postfix": null,
       "prefix": "Validation",
       "rate": null,
       "total": null,
       "unit": "it",
       "unit_divisor": 1000,
       "unit_scale": false
      },
      "application/vnd.jupyter.widget-view+json": {
       "model_id": "b12bc4231a384ee2a048f719f55454e8",
       "version_major": 2,
       "version_minor": 0
      },
      "text/plain": [
       "Validation: 0it [00:00, ?it/s]"
      ]
     },
     "metadata": {},
     "output_type": "display_data"
    },
    {
     "data": {
      "application/json": {
       "ascii": false,
       "bar_format": null,
       "colour": null,
       "elapsed": 0.022608518600463867,
       "initial": 0,
       "n": 0,
       "ncols": 24,
       "nrows": 51,
       "postfix": null,
       "prefix": "Validation",
       "rate": null,
       "total": null,
       "unit": "it",
       "unit_divisor": 1000,
       "unit_scale": false
      },
      "application/vnd.jupyter.widget-view+json": {
       "model_id": "89791498f02c46c6b0e966a5fb880594",
       "version_major": 2,
       "version_minor": 0
      },
      "text/plain": [
       "Validation: 0it [00:00, ?it/s]"
      ]
     },
     "metadata": {},
     "output_type": "display_data"
    },
    {
     "data": {
      "application/json": {
       "ascii": false,
       "bar_format": null,
       "colour": null,
       "elapsed": 0.022934913635253906,
       "initial": 0,
       "n": 0,
       "ncols": 24,
       "nrows": 51,
       "postfix": null,
       "prefix": "Validation",
       "rate": null,
       "total": null,
       "unit": "it",
       "unit_divisor": 1000,
       "unit_scale": false
      },
      "application/vnd.jupyter.widget-view+json": {
       "model_id": "2865f14eefe347e6aa3b4bd58a669dc1",
       "version_major": 2,
       "version_minor": 0
      },
      "text/plain": [
       "Validation: 0it [00:00, ?it/s]"
      ]
     },
     "metadata": {},
     "output_type": "display_data"
    },
    {
     "data": {
      "application/json": {
       "ascii": false,
       "bar_format": null,
       "colour": null,
       "elapsed": 0.022757291793823242,
       "initial": 0,
       "n": 0,
       "ncols": 24,
       "nrows": 51,
       "postfix": null,
       "prefix": "Validation",
       "rate": null,
       "total": null,
       "unit": "it",
       "unit_divisor": 1000,
       "unit_scale": false
      },
      "application/vnd.jupyter.widget-view+json": {
       "model_id": "d4fad77f3f0d447bb973ceb0334f8f7e",
       "version_major": 2,
       "version_minor": 0
      },
      "text/plain": [
       "Validation: 0it [00:00, ?it/s]"
      ]
     },
     "metadata": {},
     "output_type": "display_data"
    },
    {
     "data": {
      "application/json": {
       "ascii": false,
       "bar_format": null,
       "colour": null,
       "elapsed": 0.02320098876953125,
       "initial": 0,
       "n": 0,
       "ncols": 24,
       "nrows": 51,
       "postfix": null,
       "prefix": "Validation",
       "rate": null,
       "total": null,
       "unit": "it",
       "unit_divisor": 1000,
       "unit_scale": false
      },
      "application/vnd.jupyter.widget-view+json": {
       "model_id": "c8e671d8351d4ef88dc1f87b45e7d7e0",
       "version_major": 2,
       "version_minor": 0
      },
      "text/plain": [
       "Validation: 0it [00:00, ?it/s]"
      ]
     },
     "metadata": {},
     "output_type": "display_data"
    },
    {
     "data": {
      "application/json": {
       "ascii": false,
       "bar_format": null,
       "colour": null,
       "elapsed": 0.02263665199279785,
       "initial": 0,
       "n": 0,
       "ncols": 24,
       "nrows": 51,
       "postfix": null,
       "prefix": "Validation",
       "rate": null,
       "total": null,
       "unit": "it",
       "unit_divisor": 1000,
       "unit_scale": false
      },
      "application/vnd.jupyter.widget-view+json": {
       "model_id": "cd4932c0ed9e478184b683fd1440de36",
       "version_major": 2,
       "version_minor": 0
      },
      "text/plain": [
       "Validation: 0it [00:00, ?it/s]"
      ]
     },
     "metadata": {},
     "output_type": "display_data"
    },
    {
     "data": {
      "application/json": {
       "ascii": false,
       "bar_format": null,
       "colour": null,
       "elapsed": 0.023218154907226562,
       "initial": 0,
       "n": 0,
       "ncols": 24,
       "nrows": 51,
       "postfix": null,
       "prefix": "Validation",
       "rate": null,
       "total": null,
       "unit": "it",
       "unit_divisor": 1000,
       "unit_scale": false
      },
      "application/vnd.jupyter.widget-view+json": {
       "model_id": "38610ed59c694affb078c027f29b59cd",
       "version_major": 2,
       "version_minor": 0
      },
      "text/plain": [
       "Validation: 0it [00:00, ?it/s]"
      ]
     },
     "metadata": {},
     "output_type": "display_data"
    },
    {
     "data": {
      "application/json": {
       "ascii": false,
       "bar_format": null,
       "colour": null,
       "elapsed": 0.023459196090698242,
       "initial": 0,
       "n": 0,
       "ncols": 24,
       "nrows": 51,
       "postfix": null,
       "prefix": "Validation",
       "rate": null,
       "total": null,
       "unit": "it",
       "unit_divisor": 1000,
       "unit_scale": false
      },
      "application/vnd.jupyter.widget-view+json": {
       "model_id": "dd17618c24d6482c96fa1d0b3675534b",
       "version_major": 2,
       "version_minor": 0
      },
      "text/plain": [
       "Validation: 0it [00:00, ?it/s]"
      ]
     },
     "metadata": {},
     "output_type": "display_data"
    },
    {
     "name": "stderr",
     "output_type": "stream",
     "text": [
      "2022-09-26 18:13:40 pytorch_lightning.accelerators.gpu INFO: LOCAL_RANK: 0 - CUDA_VISIBLE_DEVICES: [0]\n"
     ]
    },
    {
     "data": {
      "application/json": {
       "ascii": false,
       "bar_format": null,
       "colour": null,
       "elapsed": 0.020395994186401367,
       "initial": 13,
       "n": 13,
       "ncols": 24,
       "nrows": 51,
       "postfix": null,
       "prefix": "Predicting",
       "rate": null,
       "total": null,
       "unit": "it",
       "unit_divisor": 1000,
       "unit_scale": false
      },
      "application/vnd.jupyter.widget-view+json": {
       "model_id": "2cd0dd8542f246d784e64fbb10e6c9a0",
       "version_major": 2,
       "version_minor": 0
      },
      "text/plain": [
       "Predicting: 13it [00:00, ?it/s]"
      ]
     },
     "metadata": {},
     "output_type": "display_data"
    }
   ],
   "source": [
    "# Fit Model\n",
    "model = NHiTSModel(use_gpu=True)\n",
    "model.fit(generator.train)\n",
    "scores = model.get_scores(generator.test)"
   ]
  },
  {
   "cell_type": "code",
   "execution_count": 12,
   "id": "38ed0850-a399-4230-b5c5-8d66914558d2",
   "metadata": {},
   "outputs": [],
   "source": [
    "# Get Threshold\n",
    "threshold_method = QuantileThreshold()\n",
    "thres = threshold_method.get_threshold(scores, 0.99)"
   ]
  },
  {
   "cell_type": "code",
   "execution_count": 15,
   "id": "b305f6a4-3526-47a0-a435-7d549d15b836",
   "metadata": {
    "tags": []
   },
   "outputs": [
    {
     "data": {
      "image/png": "[encoded data removed]",
      "text/plain": [
       "<Figure size 1000x400 with 2 Axes>"
      ]
     },
     "metadata": {},
     "output_type": "display_data"
    }
   ],
   "source": [
    "# Plot\n",
    "plot(generator.test, generator.label, scores, thres)"
   ]
  },
  {
   "cell_type": "code",
   "execution_count": null,
   "id": "e9fc996b-2ded-42cf-8bac-f46e8e9da911",
   "metadata": {},
   "outputs": [],
   "source": []
  },
  {
   "cell_type": "code",
   "execution_count": null,
   "id": "93c04dd2-af0a-4c2b-aed7-6e5a5b312141",
   "metadata": {},
   "outputs": [],
   "source": []
  },
  {
   "cell_type": "code",
   "execution_count": 7,
   "id": "ecf1e51a-4a44-443e-af5c-e2fe9b375d72",
   "metadata": {
    "tags": []
   },
   "outputs": [],
   "source": [
    "def plot(series, labels, scores, threshold):\n",
    "    fig, (ax1, ax2) = plt.subplots(2, sharex=True)\n",
    "\n",
    "    anoms = np.where(labels == 1)[0]\n",
    "    ax1.plot(series)\n",
    "    ax1.plot(anoms, series[anoms], \"ro\")\n",
    "    \n",
    "    \n",
    "    \n",
    "    ax2.plot(scores)\n",
    "    ax2.plot(threshold, \"--\")\n",
    "\n",
    "    anom_pred = np.where(scores>threshold)[0]\n",
    "    ax2.plot(anom_pred, scores[anom_pred], \"ro\")\n",
    "\n",
    "    fig.tight_layout()\n",
    "    fig.show"
   ]
  },
  {
   "cell_type": "code",
   "execution_count": null,
   "id": "8033754c-d5d2-4901-8afb-02ff68a9a620",
   "metadata": {},
   "outputs": [],
   "source": []
  }
 ],
 "metadata": {
  "kernelspec": {
   "display_name": "Python 3 (ipykernel)",
   "language": "python",
   "name": "python3"
  },
  "language_info": {
   "codemirror_mode": {
    "name": "ipython",
    "version": 3
   },
   "file_extension": ".py",
   "mimetype": "text/x-python",
   "name": "python",
   "nbconvert_exporter": "python",
   "pygments_lexer": "ipython3",
   "version": "3.8.10"
  }
 },
 "nbformat": 4,
 "nbformat_minor": 5
}
